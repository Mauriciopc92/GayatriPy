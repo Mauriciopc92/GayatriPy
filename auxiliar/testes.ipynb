{
 "cells": [
  {
   "cell_type": "code",
   "execution_count": null,
   "metadata": {},
   "outputs": [],
   "source": [
    "# Funcao get_ticker_list, ja implementada em functions.py\n",
    "\n",
    "from selenium import webdriver\n",
    "from selenium.webdriver.chrome.service import Service\n",
    "from selenium.webdriver.chrome.options import Options\n",
    "from webdriver_manager.chrome import ChromeDriverManager\n",
    "import pandas as pd\n",
    "\n",
    "chrome_options = Options()\n",
    "chrome_options.add_argument('--headless')\n",
    "driver = webdriver.Chrome(service = Service(ChromeDriverManager().install()), options=chrome_options)\n",
    "\n",
    "driver.get('https://fundamentus.com.br/resultado.php')\n",
    "\n",
    "local_tabela = '/html/body/div[1]/div[2]/table'\n",
    "tabela = driver.find_element('xpath', local_tabela)\n",
    "html_tabela = tabela.get_attribute('outerHTML')\n",
    "tabela = pd.read_html(str(html_tabela))[0]  # FutureWarning: Passing literal html to 'read_html' is deprecated and will be removed in a future version. To read from a literal string, wrap it in a 'StringIO' object.\n",
    "driver.quit()\n",
    "tickers = tabela[\"Papel\"].sort_values()\n",
    "tickers.to_csv('data/tickers.csv', index=False)\n",
    "tickers\n",
    "#, options=chrome_options"
   ]
  },
  {
   "cell_type": "code",
   "execution_count": null,
   "metadata": {},
   "outputs": [],
   "source": [
    "from b3fileparser import b3parser\n",
    "import pandas as pd\n",
    "\n",
    "dados_b3 = b3parser.read_b3_file('C:/Users/mauri/Projetos/Gayatri/GayatriPy/data/COTAHIST_A2023.TXT')\n",
    "dados_b3.to_csv('C:/Users/mauri/Projetos/Gayatri/GayatriPy/data/dadosb3.csv')\n",
    "dados_b3"
   ]
  }
 ],
 "metadata": {
  "kernelspec": {
   "display_name": "Python 3",
   "language": "python",
   "name": "python3"
  },
  "language_info": {
   "codemirror_mode": {
    "name": "ipython",
    "version": 3
   },
   "file_extension": ".py",
   "mimetype": "text/x-python",
   "name": "python",
   "nbconvert_exporter": "python",
   "pygments_lexer": "ipython3",
   "version": "3.12.2"
  }
 },
 "nbformat": 4,
 "nbformat_minor": 2
}
