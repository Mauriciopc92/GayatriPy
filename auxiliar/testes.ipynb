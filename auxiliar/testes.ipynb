{
 "cells": [
  {
   "cell_type": "code",
   "execution_count": null,
   "metadata": {},
   "outputs": [],
   "source": [
    "# Funcao get_ticker_list, ja implementada em functions.py\n",
    "\n",
    "from selenium import webdriver\n",
    "from selenium.webdriver.chrome.service import Service\n",
    "from selenium.webdriver.chrome.options import Options\n",
    "from webdriver_manager.chrome import ChromeDriverManager\n",
    "import pandas as pd\n",
    "\n",
    "chrome_options = Options()\n",
    "chrome_options.add_argument('--headless')\n",
    "driver = webdriver.Chrome(service = Service(ChromeDriverManager().install()), options=chrome_options)\n",
    "\n",
    "driver.get('https://fundamentus.com.br/resultado.php')\n",
    "\n",
    "local_tabela = '/html/body/div[1]/div[2]/table'\n",
    "tabela = driver.find_element('xpath', local_tabela)\n",
    "html_tabela = tabela.get_attribute('outerHTML')\n",
    "tabela = pd.read_html(str(html_tabela))[0]  # FutureWarning: Passing literal html to 'read_html' is deprecated and will be removed in a future version. To read from a literal string, wrap it in a 'StringIO' object.\n",
    "driver.quit()\n",
    "tickers = tabela[\"Papel\"].sort_values()\n",
    "tickers.to_csv('data/tickers.csv', index=False)\n",
    "tickers\n",
    "#, options=chrome_options"
   ]
  },
  {
   "cell_type": "code",
   "execution_count": null,
   "metadata": {},
   "outputs": [],
   "source": [
    "from b3fileparser import b3parser\n",
    "import pandas as pd\n",
    "\n",
    "dados_b3 = b3parser.read_b3_file('C:/Users/mauri/Projetos/Gayatri/GayatriPy/data/COTAHIST_A2023.TXT')\n",
    "dados_b3.to_csv('C:/Users/mauri/Projetos/Gayatri/GayatriPy/data/dadosb3.csv')\n",
    "dados_b3"
   ]
  },
  {
   "cell_type": "code",
   "execution_count": 37,
   "metadata": {},
   "outputs": [
    {
     "data": {
      "text/plain": [
       "0       AALR3\n",
       "1       ABCB3\n",
       "2       ABCB4\n",
       "3       ABEV3\n",
       "4       ABYA3\n",
       "        ...  \n",
       "981     WLMM4\n",
       "982     WMBY3\n",
       "983    WSON33\n",
       "984     YDUQ3\n",
       "985     ZAMP3\n",
       "Name: Papel, Length: 986, dtype: object"
      ]
     },
     "execution_count": 37,
     "metadata": {},
     "output_type": "execute_result"
    }
   ],
   "source": [
    "import pandas as pd\n",
    "tickers = pd.read_csv('C:/Users/mauri/Projetos/Gayatri/GayatriPy/data/tickers.csv')\n",
    "tickers[\"Papel\"]"
   ]
  },
  {
   "cell_type": "code",
   "execution_count": 62,
   "metadata": {},
   "outputs": [
    {
     "data": {
      "text/plain": [
       "0    AALR3\n",
       "1    ABCB3\n",
       "2    ABCB4\n",
       "3    ABEV3\n",
       "4    ABYA3\n",
       "Name: Papel, dtype: object"
      ]
     },
     "execution_count": 62,
     "metadata": {},
     "output_type": "execute_result"
    }
   ],
   "source": [
    "papeis = tickers.head(5)\n",
    "papeis[\"Papel\"]"
   ]
  },
  {
   "cell_type": "code",
   "execution_count": 82,
   "metadata": {},
   "outputs": [
    {
     "data": {
      "text/html": [
       "<div>\n",
       "<style scoped>\n",
       "    .dataframe tbody tr th:only-of-type {\n",
       "        vertical-align: middle;\n",
       "    }\n",
       "\n",
       "    .dataframe tbody tr th {\n",
       "        vertical-align: top;\n",
       "    }\n",
       "\n",
       "    .dataframe thead th {\n",
       "        text-align: right;\n",
       "    }\n",
       "</style>\n",
       "<table border=\"1\" class=\"dataframe\">\n",
       "  <thead>\n",
       "    <tr style=\"text-align: right;\">\n",
       "      <th></th>\n",
       "      <th>Ticker</th>\n",
       "      <th>Nome</th>\n",
       "      <th>Setor</th>\n",
       "      <th>Subsetor</th>\n",
       "      <th>Última Cotação</th>\n",
       "    </tr>\n",
       "  </thead>\n",
       "  <tbody>\n",
       "    <tr>\n",
       "      <th>0</th>\n",
       "      <td>AALR3</td>\n",
       "      <td>ALLIAR ON NM</td>\n",
       "      <td>Serv.Méd.Hospit. Análises e Diagnósticos</td>\n",
       "      <td>Serv.Méd.Hospit. Análises e Diagnósticos</td>\n",
       "      <td>11/04/2024</td>\n",
       "    </tr>\n",
       "    <tr>\n",
       "      <th>1</th>\n",
       "      <td>ABCB3</td>\n",
       "      <td>ABC Brasil ON N2</td>\n",
       "      <td>Intermediários Financeiros</td>\n",
       "      <td>Bancos</td>\n",
       "      <td>30/12/1899</td>\n",
       "    </tr>\n",
       "    <tr>\n",
       "      <th>2</th>\n",
       "      <td>ABCB4</td>\n",
       "      <td>ABC Brasil PN N2</td>\n",
       "      <td>Intermediários Financeiros</td>\n",
       "      <td>Bancos</td>\n",
       "      <td>11/04/2024</td>\n",
       "    </tr>\n",
       "    <tr>\n",
       "      <th>3</th>\n",
       "      <td>ABEV3</td>\n",
       "      <td>AMBEV S/A ON</td>\n",
       "      <td>Bebidas</td>\n",
       "      <td>Cervejas e Refrigerantes</td>\n",
       "      <td>11/04/2024</td>\n",
       "    </tr>\n",
       "    <tr>\n",
       "      <th>4</th>\n",
       "      <td>ABYA3</td>\n",
       "      <td>ABYARA ON NM</td>\n",
       "      <td>Construção Civil</td>\n",
       "      <td>Incorporações</td>\n",
       "      <td>11/02/2010</td>\n",
       "    </tr>\n",
       "  </tbody>\n",
       "</table>\n",
       "</div>"
      ],
      "text/plain": [
       "  Ticker              Nome                                     Setor  \\\n",
       "0  AALR3      ALLIAR ON NM  Serv.Méd.Hospit. Análises e Diagnósticos   \n",
       "1  ABCB3  ABC Brasil ON N2                Intermediários Financeiros   \n",
       "2  ABCB4  ABC Brasil PN N2                Intermediários Financeiros   \n",
       "3  ABEV3      AMBEV S/A ON                                   Bebidas   \n",
       "4  ABYA3      ABYARA ON NM                          Construção Civil   \n",
       "\n",
       "                                   Subsetor Última Cotação  \n",
       "0  Serv.Méd.Hospit. Análises e Diagnósticos     11/04/2024  \n",
       "1                                    Bancos     30/12/1899  \n",
       "2                                    Bancos     11/04/2024  \n",
       "3                  Cervejas e Refrigerantes     11/04/2024  \n",
       "4                             Incorporações     11/02/2010  "
      ]
     },
     "execution_count": 82,
     "metadata": {},
     "output_type": "execute_result"
    }
   ],
   "source": [
    "from selenium import webdriver\n",
    "from selenium.webdriver.chrome.service import Service\n",
    "from selenium.webdriver.chrome.options import Options\n",
    "from webdriver_manager.chrome import ChromeDriverManager\n",
    "from datetime import date, datetime, timedelta\n",
    "from io import StringIO\n",
    "import pandas as pd\n",
    "chrome_options = Options()\n",
    "chrome_options.add_argument('--headless')\n",
    "driver = webdriver.Chrome(service = Service(ChromeDriverManager().install()), options=chrome_options)\n",
    "\n",
    "stocks = pd.DataFrame(columns=[\"Ticker\", \"Nome\", \"Setor\", \"Subsetor\", \"Última Cotação\"])\n",
    "\n",
    "for ticker in papeis[\"Papel\"]:\n",
    "    driver.get(f'https://www.fundamentus.com.br/detalhes.php?papel={ticker}')\n",
    "    tabela = driver.find_element('xpath', '/html/body/div[1]/div[2]/table[1]')   \n",
    "    html_tabela = tabela.get_attribute('outerHTML')\n",
    "    tabela = pd.read_html(StringIO(str(html_tabela)))[0]\n",
    "    nome = tabela.iloc[2, 1]\n",
    "    lastpricedate = str(tabela.iloc[1, 3])\n",
    "    setor = tabela.iloc[3, 1]\n",
    "    subsetor = tabela.iloc[4, 1]\n",
    "    stocks = pd.concat([stocks, pd.DataFrame({\"Ticker\": [ticker], \"Nome\": [nome], \"Setor\": [setor], \"Subsetor\": [subsetor], \"Última Cotação\": [lastpricedate]})], ignore_index=True)\n",
    "\n",
    "stocks = stocks.dropna()\n",
    "stocks.to_csv('C:/Users/mauri/Projetos/Gayatri/GayatriPy/data/Stocks.csv')\n",
    "stocks"
   ]
  },
  {
   "cell_type": "code",
   "execution_count": 88,
   "metadata": {},
   "outputs": [],
   "source": [
    "today = datetime.now()"
   ]
  },
  {
   "cell_type": "code",
   "execution_count": null,
   "metadata": {},
   "outputs": [],
   "source": []
  }
 ],
 "metadata": {
  "kernelspec": {
   "display_name": "Python 3",
   "language": "python",
   "name": "python3"
  },
  "language_info": {
   "codemirror_mode": {
    "name": "ipython",
    "version": 3
   },
   "file_extension": ".py",
   "mimetype": "text/x-python",
   "name": "python",
   "nbconvert_exporter": "python",
   "pygments_lexer": "ipython3",
   "version": "3.12.2"
  }
 },
 "nbformat": 4,
 "nbformat_minor": 2
}
