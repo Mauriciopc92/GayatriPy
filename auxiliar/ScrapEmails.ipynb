{
 "cells": [
  {
   "cell_type": "code",
   "execution_count": 2,
   "metadata": {},
   "outputs": [
    {
     "ename": "TimeoutException",
     "evalue": "Message: \nStacktrace:\n\tGetHandleVerifier [0x00858D03+51395]\n\t(No symbol) [0x007C5F61]\n\t(No symbol) [0x0067E13A]\n\t(No symbol) [0x006B62BB]\n\t(No symbol) [0x006B63EB]\n\t(No symbol) [0x006EC162]\n\t(No symbol) [0x006D3ED4]\n\t(No symbol) [0x006EA570]\n\t(No symbol) [0x006D3C26]\n\t(No symbol) [0x006AC629]\n\t(No symbol) [0x006AD40D]\n\tGetHandleVerifier [0x00BD68D3+3712147]\n\tGetHandleVerifier [0x00C15CBA+3971194]\n\tGetHandleVerifier [0x00C10FA8+3951464]\n\tGetHandleVerifier [0x00909D09+776393]\n\t(No symbol) [0x007D1734]\n\t(No symbol) [0x007CC618]\n\t(No symbol) [0x007CC7C9]\n\t(No symbol) [0x007BDDF0]\n\tBaseThreadInitThunk [0x75FAFCC9+25]\n\tRtlGetAppContainerNamedObjectPath [0x77167C5E+286]\n\tRtlGetAppContainerNamedObjectPath [0x77167C2E+238]\n",
     "output_type": "error",
     "traceback": [
      "\u001b[1;31m---------------------------------------------------------------------------\u001b[0m",
      "\u001b[1;31mTimeoutException\u001b[0m                          Traceback (most recent call last)",
      "Cell \u001b[1;32mIn[2], line 63\u001b[0m\n\u001b[0;32m     60\u001b[0m driver\u001b[38;5;241m.\u001b[39mfind_element(By\u001b[38;5;241m.\u001b[39mCLASS_NAME, \u001b[38;5;124m'\u001b[39m\u001b[38;5;124mjGG6V\u001b[39m\u001b[38;5;124m'\u001b[39m)\u001b[38;5;241m.\u001b[39mclick()\n\u001b[0;32m     62\u001b[0m \u001b[38;5;66;03m# Aguardar até que um elemento esteja presente na página\u001b[39;00m\n\u001b[1;32m---> 63\u001b[0m element \u001b[38;5;241m=\u001b[39m \u001b[43mWebDriverWait\u001b[49m\u001b[43m(\u001b[49m\u001b[43mdriver\u001b[49m\u001b[43m,\u001b[49m\u001b[43m \u001b[49m\u001b[38;5;241;43m20\u001b[39;49m\u001b[43m)\u001b[49m\u001b[38;5;241;43m.\u001b[39;49m\u001b[43muntil\u001b[49m\u001b[43m(\u001b[49m\n\u001b[0;32m     64\u001b[0m \u001b[43m    \u001b[49m\u001b[38;5;66;43;03m#EC.presence_of_element_located((By.XPATH, '//*[@id=\"UniqueMessageBody\"]/div/div/div/div[2]/div[4]/p[2]'))\u001b[39;49;00m\n\u001b[0;32m     65\u001b[0m \u001b[43m    \u001b[49m\u001b[43mEC\u001b[49m\u001b[38;5;241;43m.\u001b[39;49m\u001b[43mpresence_of_element_located\u001b[49m\u001b[43m(\u001b[49m\u001b[43m(\u001b[49m\u001b[43mBy\u001b[49m\u001b[38;5;241;43m.\u001b[39;49m\u001b[43mCSS_SELECTOR\u001b[49m\u001b[43m,\u001b[49m\u001b[43m \u001b[49m\u001b[38;5;124;43m'\u001b[39;49m\u001b[38;5;124;43m#UniqueMessageBody > div > div > div > div:nth-child(2) > div:nth-child(24) > p.x_tradingview-text\u001b[39;49m\u001b[38;5;124;43m'\u001b[39;49m\u001b[43m)\u001b[49m\u001b[43m)\u001b[49m\n\u001b[0;32m     66\u001b[0m \u001b[43m)\u001b[49m\n\u001b[0;32m     67\u001b[0m \u001b[38;5;66;03m#spx_levels = driver.find_element('xpath', '//*[@id=\"UniqueMessageBody\"]/div/div/div/div[2]/div[4]/p[2]').text\u001b[39;00m\n\u001b[0;32m     68\u001b[0m spx_levels \u001b[38;5;241m=\u001b[39m driver\u001b[38;5;241m.\u001b[39mfind_element(By\u001b[38;5;241m.\u001b[39mCSS_SELECTOR, \u001b[38;5;124m'\u001b[39m\u001b[38;5;124m#UniqueMessageBody > div > div > div > div:nth-child(2) > div:nth-child(24) > p.x_tradingview-text\u001b[39m\u001b[38;5;124m'\u001b[39m)\u001b[38;5;241m.\u001b[39mtext\n",
      "File \u001b[1;32mc:\\Users\\mauri\\AppData\\Local\\Programs\\Python\\Python311\\Lib\\site-packages\\selenium\\webdriver\\support\\wait.py:95\u001b[0m, in \u001b[0;36mWebDriverWait.until\u001b[1;34m(self, method, message)\u001b[0m\n\u001b[0;32m     93\u001b[0m     \u001b[38;5;28;01mif\u001b[39;00m time\u001b[38;5;241m.\u001b[39mmonotonic() \u001b[38;5;241m>\u001b[39m end_time:\n\u001b[0;32m     94\u001b[0m         \u001b[38;5;28;01mbreak\u001b[39;00m\n\u001b[1;32m---> 95\u001b[0m \u001b[38;5;28;01mraise\u001b[39;00m TimeoutException(message, screen, stacktrace)\n",
      "\u001b[1;31mTimeoutException\u001b[0m: Message: \nStacktrace:\n\tGetHandleVerifier [0x00858D03+51395]\n\t(No symbol) [0x007C5F61]\n\t(No symbol) [0x0067E13A]\n\t(No symbol) [0x006B62BB]\n\t(No symbol) [0x006B63EB]\n\t(No symbol) [0x006EC162]\n\t(No symbol) [0x006D3ED4]\n\t(No symbol) [0x006EA570]\n\t(No symbol) [0x006D3C26]\n\t(No symbol) [0x006AC629]\n\t(No symbol) [0x006AD40D]\n\tGetHandleVerifier [0x00BD68D3+3712147]\n\tGetHandleVerifier [0x00C15CBA+3971194]\n\tGetHandleVerifier [0x00C10FA8+3951464]\n\tGetHandleVerifier [0x00909D09+776393]\n\t(No symbol) [0x007D1734]\n\t(No symbol) [0x007CC618]\n\t(No symbol) [0x007CC7C9]\n\t(No symbol) [0x007BDDF0]\n\tBaseThreadInitThunk [0x75FAFCC9+25]\n\tRtlGetAppContainerNamedObjectPath [0x77167C5E+286]\n\tRtlGetAppContainerNamedObjectPath [0x77167C2E+238]\n"
     ]
    }
   ],
   "source": [
    "from selenium import webdriver\n",
    "from selenium.webdriver.chrome.service import Service\n",
    "from webdriver_manager.chrome import ChromeDriverManager\n",
    "from selenium.webdriver.common.by import By\n",
    "from selenium.webdriver.common.keys import Keys\n",
    "from selenium.webdriver.support.wait import WebDriverWait\n",
    "from selenium.webdriver.support import expected_conditions as EC\n",
    "import pandas as pd\n",
    "\n",
    "def abreviar_string(input_string):\n",
    "    substituicoes = {'Support': 'Sup', 'Resistance': 'Res', 'Level': 'Lvl', 'Gamma Wall 0DTE': 'GWall 0DTE'}\n",
    "\n",
    "    for palavra, abreviacao in substituicoes.items():\n",
    "        input_string = input_string.replace(palavra, abreviacao)\n",
    "\n",
    "    return input_string\n",
    "\n",
    "driver = webdriver.Chrome(service = Service(ChromeDriverManager().install()))\n",
    "driver.get('https://outlook.live.com/mail/0/')\n",
    "\n",
    "# Aguardar até que um elemento seja clicável\n",
    "element = WebDriverWait(driver, 10).until(\n",
    "    EC.element_to_be_clickable((By.XPATH, '//*[@id=\"mectrl_headerPicture\"]'))\n",
    ")\n",
    "#Clica no botão para a tela de login\n",
    "driver.find_element('xpath', '//*[@id=\"mectrl_headerPicture\"]').click()\n",
    "\n",
    "element = WebDriverWait(driver, 10).until(\n",
    "    EC.element_to_be_clickable((By.XPATH, '//*[@id=\"i0116\"]'))\n",
    ")    \n",
    "#Insere usuario e clica em enviar\n",
    "driver.find_element('xpath', '//*[@id=\"i0116\"]').send_keys(\"mauriciopc92@outlook.com\")\n",
    "driver.find_element('xpath', '//*[@id=\"idSIButton9\"]').click()\n",
    "\n",
    "element = WebDriverWait(driver, 10).until(\n",
    "    EC.element_to_be_clickable((By.XPATH, '//*[@id=\"i0118\"]'))\n",
    ") \n",
    "#Insere senha e clica em enviar\n",
    "driver.find_element('xpath', '//*[@id=\"i0118\"]').send_keys(\"Tradeplant1618*\")\n",
    "driver.find_element('xpath', '//*[@id=\"idSIButton9\"]').click()\n",
    "\n",
    "element = WebDriverWait(driver, 10).until(\n",
    "    EC.element_to_be_clickable((By.XPATH, '//*[@id=\"acceptButton\"]'))\n",
    ") \n",
    "#Clica em aceitar para manter conectado\n",
    "driver.find_element('xpath', '//*[@id=\"acceptButton\"]').click()\n",
    "\n",
    "element = WebDriverWait(driver, 10).until(\n",
    "    EC.element_to_be_clickable((By.XPATH, '//*[@id=\"folderPaneDroppableContainer\"]/div/div[1]/div[2]/div/div[5]/div/span[1]'))\n",
    ")\n",
    "#Clica na pasta do Menthor Q\n",
    "driver.find_element('xpath', '//*[@id=\"folderPaneDroppableContainer\"]/div/div[1]/div[2]/div/div[5]/div/span[1]').click()\n",
    " \n",
    "#Aguarda carregar a lista de mensagens\n",
    "element = WebDriverWait(driver, 10).until(\n",
    "    EC.element_to_be_clickable((By.CLASS_NAME, 'jGG6V'))\n",
    ")\n",
    "#Clica na caixa do assunto para abrir a mensagem *Corrigir para pegar sempre o mais recente*\n",
    "#driver.find_element('xpath', '//*[@id=\"AQAABg0dq58BAAAHwl7BHwAAAAA=\"]/div/div/div[2]').click()\n",
    "driver.find_element(By.CLASS_NAME, 'jGG6V').click()\n",
    "\n",
    "# Aguardar até que um elemento esteja presente na página\n",
    "element = WebDriverWait(driver, 20).until(\n",
    "    #EC.presence_of_element_located((By.XPATH, '//*[@id=\"UniqueMessageBody\"]/div/div/div/div[2]/div[4]/p[2]'))\n",
    "    EC.presence_of_element_located((By.CSS_SELECTOR, '#UniqueMessageBody > div > div > div > div:nth-child(2) > div:nth-child(24) > p.x_tradingview-text'))\n",
    ")\n",
    "#spx_levels = driver.find_element('xpath', '//*[@id=\"UniqueMessageBody\"]/div/div/div/div[2]/div[4]/p[2]').text\n",
    "spx_levels = driver.find_element(By.CSS_SELECTOR, '#UniqueMessageBody > div > div > div > div:nth-child(2) > div:nth-child(24) > p.x_tradingview-text').text\n",
    "#qqq_levels = driver.find_element('xpath', '//*[@id=\"UniqueMessageBody\"]/div/div/div/div[2]/div[17]/p[2]').text\n",
    "qqq_levels = driver.find_element(By.CSS_SELECTOR, '#UniqueMessageBody > div > div > div > div:nth-child(2) > div:nth-child(59) > p.x_tradingview-text').text\n",
    "#vix_levels = driver.find_element('xpath', '//*[@id=\"UniqueMessageBody\"]/div/div/div/div[2]/div[23]/p[2]').text\n",
    "vix_levels = driver.find_element(By.CSS_SELECTOR, '#UniqueMessageBody > div > div > div > div:nth-child(2) > div:nth-child(73) > p.x_tradingview-text').text\n",
    "data = driver.find_element(By.CSS_SELECTOR, '#ConversationReadingPaneContainer > div.L72vd > div > div:nth-child(2) > div.aVla3 > div > div > div > div > div.oHwUF > div.W9q3J.sxdRi > div.srQCs > div').text\n",
    "\n",
    "# Fechar o navegador ao final do script\n",
    "#driver.quit()\n",
    "\n",
    "#Função para criar dataframes\n",
    "stock = None\n",
    "def create_lvls_dataframe(lvls, date):\n",
    "    global stock\n",
    "    level = abreviar_string(lvls[6:])\n",
    "    data_list = level.split(', ')\n",
    "\n",
    "    # Create two separate lists for labels and numbers\n",
    "    levels = []\n",
    "    prices = []\n",
    "\n",
    "    for i in range(0, len(data_list), 2):\n",
    "        levels.append(data_list[i])\n",
    "        if i + 1 < len(data_list):\n",
    "            prices.append(float(data_list[i + 1]))\n",
    "\n",
    "    stock = pd.DataFrame({'Data': date[5:-6], 'Stock': lvls[1:4], 'Level': levels, 'Price': prices})\n",
    "    return stock\n"
   ]
  },
  {
   "cell_type": "code",
   "execution_count": null,
   "metadata": {},
   "outputs": [],
   "source": []
  },
  {
   "cell_type": "code",
   "execution_count": null,
   "metadata": {},
   "outputs": [],
   "source": [
    "spx = create_lvls_dataframe(spx_levels,data)\n",
    "qqq = create_lvls_dataframe(qqq_levels,data)\n",
    "vix = create_lvls_dataframe(vix_levels,data)"
   ]
  },
  {
   "cell_type": "code",
   "execution_count": null,
   "metadata": {},
   "outputs": [],
   "source": [
    "spx.to_excel('C:/Users/mauri/OneDrive/Documentos/Code/SaxDashboard/Modelos/MenthorQ/spx_master.xlsx')"
   ]
  },
  {
   "cell_type": "code",
   "execution_count": null,
   "metadata": {},
   "outputs": [],
   "source": [
    "df_master = pd.read_excel('C:/Users/mauri/OneDrive/Documentos/Code/SaxDashboard/Modelos/MenthorQ/spx_master.xlsx')\n",
    "df_master"
   ]
  },
  {
   "cell_type": "code",
   "execution_count": null,
   "metadata": {},
   "outputs": [],
   "source": [
    "\n",
    "def feed_master_df(master_df, daily_df):\n",
    "    master_df = pd.DataFrame()\n",
    "    master_df = pd.concat([master_df, daily_df], ignore_index=True)\n",
    "    return master_df\n"
   ]
  },
  {
   "cell_type": "code",
   "execution_count": null,
   "metadata": {},
   "outputs": [],
   "source": [
    "spx_master = pd.DataFrame()\n",
    "spx_master = feed_master_df(spx_master, spx)\n",
    "spx_master"
   ]
  }
 ],
 "metadata": {
  "kernelspec": {
   "display_name": "Python 3",
   "language": "python",
   "name": "python3"
  },
  "language_info": {
   "codemirror_mode": {
    "name": "ipython",
    "version": 3
   },
   "file_extension": ".py",
   "mimetype": "text/x-python",
   "name": "python",
   "nbconvert_exporter": "python",
   "pygments_lexer": "ipython3",
   "version": "3.11.4"
  }
 },
 "nbformat": 4,
 "nbformat_minor": 2
}
